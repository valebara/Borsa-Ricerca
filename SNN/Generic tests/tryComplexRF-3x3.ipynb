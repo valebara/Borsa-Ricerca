{
 "cells": [
  {
   "cell_type": "code",
   "execution_count": 17,
   "id": "d8ecf33c",
   "metadata": {},
   "outputs": [],
   "source": [
    "import matplotlib.pyplot as plt\n",
    "import numpy as np\n",
    "\n",
    "M = np.zeros((28*28,9*9))\n",
    "\n",
    "sigma = 1\n",
    "mu = 1\n",
    "\n",
    "x, y = np.meshgrid(range(3), range(3))\n",
    "tmp = np.exp(-((x-mu)**2+(y-mu)**2)/(2*sigma**2))\n",
    "\n",
    "for ii in range(9):\n",
    "    for jj in range(9):\n",
    "        \n",
    "        mat = np.zeros((28,28))\n",
    "        mat[3*ii:3*(ii+1), 3*jj:3*(jj+1)] = tmp\n",
    "        M[:,3*ii+jj] = mat.flatten()\n",
    "        \n",
    "matrix = np.zeros((28*28*4,9*9*4))\n",
    "\n",
    "for ii in range(4):\n",
    "        matrix[ii*784:(ii+1)*784, ii*81:(ii+1)*81] = M\n",
    "        \n",
    "a = matrix.flatten()\n",
    "\n",
    "np.save('ComplexRF_3x3',a)"
   ]
  },
  {
   "cell_type": "code",
   "execution_count": null,
   "id": "37aae007",
   "metadata": {},
   "outputs": [],
   "source": []
  },
  {
   "cell_type": "code",
   "execution_count": null,
   "id": "c5552693",
   "metadata": {},
   "outputs": [],
   "source": []
  }
 ],
 "metadata": {
  "kernelspec": {
   "display_name": "Python 3 (ipykernel)",
   "language": "python",
   "name": "python3"
  },
  "language_info": {
   "codemirror_mode": {
    "name": "ipython",
    "version": 3
   },
   "file_extension": ".py",
   "mimetype": "text/x-python",
   "name": "python",
   "nbconvert_exporter": "python",
   "pygments_lexer": "ipython3",
   "version": "3.10.11"
  }
 },
 "nbformat": 4,
 "nbformat_minor": 5
}
