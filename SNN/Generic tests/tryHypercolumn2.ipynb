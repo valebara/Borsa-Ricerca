{
 "cells": [
  {
   "cell_type": "code",
   "execution_count": 2,
   "id": "bd77ad29",
   "metadata": {
    "scrolled": true
   },
   "outputs": [
    {
     "name": "stdout",
     "output_type": "stream",
     "text": [
      "Real letter: D\n",
      "Classification\n",
      "  C   D   H    K   N   O   R   S   V    Z\n"
     ]
    },
    {
     "data": {
      "text/latex": [
       "$\\left[\\begin{matrix}28. & 58. &  0. &  0. &  0. &  2. &  0. &  0. &  0. &  0.\\end{matrix}\\right]\\,\\mathrm{Hz}$"
      ],
      "text/plain": [
       "array([28., 58.,  0.,  0.,  0.,  2.,  0.,  0.,  0.,  0.]) * hertz"
      ]
     },
     "execution_count": 2,
     "metadata": {},
     "output_type": "execute_result"
    }
   ],
   "source": [
    "from brian2 import *\n",
    "from matrices import import_light, import_dog_inh, import_v1, import_lettersRF\n",
    "%matplotlib inline\n",
    "import numpy as np\n",
    "import pytime\n",
    "\n",
    "nL1 = nL2 = 5**2\n",
    "nL3 = nL2*4\n",
    "nL4 = 10\n",
    "\n",
    "taum = 10*ms\n",
    "taue = taui = 5*ms\n",
    "\n",
    "duration = 500*ms\n",
    "\n",
    "eqsCUBALIF ='''\n",
    "dv/dt  = (ge+gi-v)/taum : volt (unless refractory)\n",
    "dge/dt = -ge/taue : volt\n",
    "dgi/dt = -gi/taui : volt\n",
    "'''\n",
    "\n",
    "letters = ['C','D','H','K','N','O','R','S','V','Z']\n",
    "ind = 1\n",
    "real_letter = letters[ind]\n",
    "\n",
    "pat = import_light()\n",
    "light = TimedArray(pat[ind].reshape(1,25)*100*Hz, dt=duration)\n",
    "\n",
    "L1 = PoissonGroup(nL1, rates='light(t,i)')\n",
    "L2 = NeuronGroup(nL2, eqsCUBALIF, threshold='v>0.3*volt', reset='v = 0*volt', refractory=5*ms, method='euler')\n",
    "L3 = NeuronGroup(nL3, eqsCUBALIF, threshold='v>0.3*volt', reset='v = 0*volt', refractory=5*ms, method='euler')\n",
    "L4 = NeuronGroup(nL4, eqsCUBALIF, threshold='v>0.3*volt', reset='v = 0*volt', refractory=5*ms, method='euler')\n",
    "\n",
    "sp1 = SpikeMonitor(L1)\n",
    "sp2 = SpikeMonitor(L2)\n",
    "sp3 = SpikeMonitor(L3)\n",
    "sp4 = SpikeMonitor(L4)\n",
    "\n",
    "gain = 1*volt\n",
    "\n",
    "# From photoreceptors to ganglion cells\n",
    "\n",
    "e1 = Synapses(L1, L2, 'w : volt', on_pre='ge += w')\n",
    "e1.connect()\n",
    "exc1 = np.eye(nL2)\n",
    "e1.w = exc1.flatten()*8*gain\n",
    "\n",
    "i1 = Synapses(L1, L2, 'w : volt', on_pre='gi -= w')\n",
    "i1.connect()\n",
    "inh1 = import_dog_inh()\n",
    "i1.w = inh1.flatten()*gain\n",
    "\n",
    "# From ganglion cells to simple cells\n",
    "\n",
    "e2 = Synapses(L2, L3, 'w : volt', on_pre='ge += w')\n",
    "e2.connect()\n",
    "exc2 = import_v1()\n",
    "e2.w = exc2.flatten()*gain/3\n",
    "\n",
    "# From simple cells to classification cells\n",
    "\n",
    "e3 = Synapses(L3, L4, 'w : volt', on_pre='ge += w')\n",
    "e3.connect()\n",
    "exc3 = import_lettersRF()\n",
    "e3.w = exc3.flatten()*gain*2\n",
    "\n",
    "run(duration)\n",
    "mfrPR = sp1.count/duration\n",
    "mfrLGN = sp2.count/duration\n",
    "mfrV1 = sp3.count/duration\n",
    "mfrClass = sp4.count/duration\n",
    "\n",
    "print(f'Real letter: {real_letter}')\n",
    "print('Classification')\n",
    "print('  C   D   H    K   N   O   R   S   V    Z')\n",
    "mfrClass"
   ]
  },
  {
   "cell_type": "code",
   "execution_count": null,
   "id": "356808ec",
   "metadata": {},
   "outputs": [],
   "source": []
  },
  {
   "cell_type": "code",
   "execution_count": null,
   "id": "1fb6db77",
   "metadata": {},
   "outputs": [],
   "source": []
  }
 ],
 "metadata": {
  "kernelspec": {
   "display_name": "Python 3 (ipykernel)",
   "language": "python",
   "name": "python3"
  },
  "language_info": {
   "codemirror_mode": {
    "name": "ipython",
    "version": 3
   },
   "file_extension": ".py",
   "mimetype": "text/x-python",
   "name": "python",
   "nbconvert_exporter": "python",
   "pygments_lexer": "ipython3",
   "version": "3.10.11"
  }
 },
 "nbformat": 4,
 "nbformat_minor": 5
}
