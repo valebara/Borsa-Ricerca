{
 "cells": [
  {
   "cell_type": "code",
   "execution_count": 7,
   "id": "d8ecf33c",
   "metadata": {},
   "outputs": [],
   "source": [
    "import matplotlib.pyplot as plt\n",
    "import numpy as np\n",
    "\n",
    "M = np.zeros((28*28,5*5))\n",
    "\n",
    "sigma = 1.5\n",
    "mu = 2\n",
    "\n",
    "x, y = np.meshgrid(range(5), range(5))\n",
    "tmp = np.exp(-((x-mu)**2+(y-mu)**2)/(2*sigma**2))\n",
    "\n",
    "for ii in range(5):\n",
    "    for jj in range(5):\n",
    "        \n",
    "        mat = np.zeros((28,28))\n",
    "        mat[5*ii:5*(ii+1), 5*jj:5*(jj+1)] = tmp\n",
    "        M[:,5*ii+jj] = mat.flatten()\n",
    "        \n",
    "matrix = np.zeros((28*28*4,5*5*4))\n",
    "\n",
    "for ii in range(4):\n",
    "        matrix[ii*784:(ii+1)*784, ii*25:(ii+1)*25] = M\n",
    "        \n",
    "a = matrix.flatten()\n",
    "\n",
    "np.save('ComplexRF_5x5',a)"
   ]
  }
 ],
 "metadata": {
  "kernelspec": {
   "display_name": "Python 3 (ipykernel)",
   "language": "python",
   "name": "python3"
  },
  "language_info": {
   "codemirror_mode": {
    "name": "ipython",
    "version": 3
   },
   "file_extension": ".py",
   "mimetype": "text/x-python",
   "name": "python",
   "nbconvert_exporter": "python",
   "pygments_lexer": "ipython3",
   "version": "3.10.11"
  }
 },
 "nbformat": 4,
 "nbformat_minor": 5
}
