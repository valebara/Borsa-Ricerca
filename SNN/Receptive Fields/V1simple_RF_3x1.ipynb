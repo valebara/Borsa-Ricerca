{
 "cells": [
  {
   "cell_type": "code",
   "execution_count": 14,
   "id": "90de0d44",
   "metadata": {},
   "outputs": [
    {
     "data": {
      "text/plain": [
       "<matplotlib.colorbar.Colorbar at 0x1cba3a57640>"
      ]
     },
     "execution_count": 14,
     "metadata": {},
     "output_type": "execute_result"
    },
    {
     "data": {
      "image/png": "[encoded data removed]",
      "text/plain": [
       "<Figure size 640x480 with 8 Axes>"
      ]
     },
     "metadata": {},
     "output_type": "display_data"
    }
   ],
   "source": [
    "import matplotlib.pyplot as plt\n",
    "import numpy as np\n",
    "\n",
    "n=28\n",
    "[X,Y] = np.meshgrid(range(n),range(n))\n",
    "\n",
    "###########################################################################################################################\n",
    "\n",
    "r1 = np.logical_and(abs(X-10)<2, abs(Y-10)<2)\n",
    "r2 = abs(X-10)<1\n",
    "re = np.logical_and(r1,r2)\n",
    "ri = np.logical_and(r1,np.logical_not(r2))\n",
    "im = re.astype(int)-ri.astype(int)\n",
    "\n",
    "plt.subplot(221)\n",
    "plt.imshow(im,cmap='gray')\n",
    "plt.xticks([])\n",
    "plt.yticks([])\n",
    "plt.title('Vertical')\n",
    "plt.colorbar()\n",
    "\n",
    "###########################################################################################################################\n",
    "\n",
    "r1 = np.logical_and(np.sqrt((X-10)**2)<2, np.sqrt((Y-10)**2)<2)\n",
    "r2 = np.logical_and(abs(X-10)<2, abs(Y-10)<1)\n",
    "re = np.logical_and(r1,r2)\n",
    "ri = np.logical_and(r1,np.logical_not(r2))\n",
    "im = re.astype(int)-ri.astype(int)\n",
    "\n",
    "plt.subplot(222)\n",
    "plt.imshow(im,cmap='gray')\n",
    "plt.xticks([])\n",
    "plt.yticks([])\n",
    "plt.title('Horizontal')\n",
    "plt.colorbar()\n",
    "\n",
    "###########################################################################################################################\n",
    "\n",
    "r = np.logical_and(np.sqrt((X-10)**2)<2, np.sqrt((Y-10)**2)<2)\n",
    "r1 = np.logical_and(X-10+Y-10<1 , X-10+Y-10>-1)\n",
    "re = np.logical_and(r,r1)\n",
    "ri = np.logical_and(r,np.logical_not(r1))\n",
    "im = re.astype(int)-ri.astype(int)\n",
    "\n",
    "plt.subplot(223)\n",
    "plt.imshow(im,cmap='gray')\n",
    "plt.xticks([])\n",
    "plt.yticks([])\n",
    "plt.title('ACW')\n",
    "plt.colorbar()\n",
    "\n",
    "###########################################################################################################################\n",
    "\n",
    "r = np.logical_and(np.sqrt((X-10)**2)<2, np.sqrt((Y-10)**2)<2)\n",
    "r1 = np.logical_and(-X+10+Y-10<1 , -X+10+Y-10>-1)\n",
    "re = np.logical_and(r,r1)\n",
    "ri = np.logical_and(r,np.logical_not(r1))\n",
    "im = re.astype(int)-ri.astype(int)\n",
    "\n",
    "plt.subplot(224)\n",
    "plt.imshow(im,cmap='gray')\n",
    "plt.xticks([])\n",
    "plt.yticks([])\n",
    "plt.title('CW')\n",
    "plt.colorbar()"
   ]
  },
  {
   "cell_type": "code",
   "execution_count": null,
   "id": "2d03e32f",
   "metadata": {},
   "outputs": [],
   "source": []
  }
 ],
 "metadata": {
  "kernelspec": {
   "display_name": "Python 3 (ipykernel)",
   "language": "python",
   "name": "python3"
  },
  "language_info": {
   "codemirror_mode": {
    "name": "ipython",
    "version": 3
   },
   "file_extension": ".py",
   "mimetype": "text/x-python",
   "name": "python",
   "nbconvert_exporter": "python",
   "pygments_lexer": "ipython3",
   "version": "3.10.11"
  }
 },
 "nbformat": 4,
 "nbformat_minor": 5
}
