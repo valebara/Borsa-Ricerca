{
 "cells": [
  {
   "cell_type": "markdown",
   "id": "7e59c3b3",
   "metadata": {},
   "source": [
    "# V1 - 8 orientations (simple + complex)\n",
    "<br>\n",
    "<br>\n",
    "Layer 1) Retina (Photoreceptors) <br>\n",
    "<br>\n",
    "Layer 2) LGN (Ganglion cells) <br>\n",
    "&emsp; &emsp; &emsp; - Scale A (single pixel) -> Layer 28x28 <br> \n",
    "&emsp; &emsp; &emsp; - Scale B (2x2 mean) -> Layer 14x14 <br>\n",
    "<br>\n",
    "Layer 3) V1 (Simple cells) -> 5x1 RF <br>\n",
    "&emsp; &emsp; &emsp; - LGN A -> V1 A (28 x 28 x 8) <br> \n",
    "&emsp; &emsp; &emsp; - LGN B -> V1 B (14 x 14 x 8) <br>\n",
    "<br>\n",
    "Layer 4) LGN (Complex cells) <br><br>\n",
    "&emsp; &emsp; - V1 A: <br> \n",
    "&emsp; &emsp; &emsp; - Scale A (3x3 gaussian kernel) -> Layer 10 x 10 x 8 (2-pixel padding) <br> \n",
    "&emsp; &emsp; &emsp; - Scale B (5x5 gaussian kernel) -> Layer 6 x 6 x 8 (2-pixel padding) <br>\n",
    "&emsp; &emsp; - V1 B: <br>\n",
    "&emsp; &emsp; &emsp; - Scale A (3x3 gaussian kernel) -> Layer 5 x 5 x 8 (1-pixel padding)"
   ]
  },
  {
   "cell_type": "code",
   "execution_count": 7,
   "id": "2e75363b",
   "metadata": {},
   "outputs": [],
   "source": [
    "from brian2 import *\n",
    "%matplotlib inline\n",
    "import numpy as np\n",
    "import pytime\n",
    "\n",
    "x_train = np.load('x_train.npy')\n",
    "x_test = np.load('x_test.npy')\n",
    "t_train = np.load('t_train.npy')\n",
    "t_test = np.load('t_test.npy')\n",
    "\n",
    "n = 28\n",
    "pat = x_train[0,:].reshape(n,n)/255\n",
    "\n",
    "def visualize_Hypercolumn_8ori(mfr, n, FR):\n",
    "\n",
    "    titles = ['0°','30°','45°','60°','90°','120°','135°','150°']\n",
    "    nL = n**2\n",
    "    \n",
    "    for ii in range(8):\n",
    "        \n",
    "        a = asarray(mfr[nL*ii : nL*(ii+1)]/FR)\n",
    "        b = a.reshape(n,n)\n",
    "        \n",
    "        plt.subplot(2,4,ii+1)\n",
    "        plt.imshow(b,cmap='gray')\n",
    "        plt.xticks([])\n",
    "        plt.yticks([])\n",
    "        plt.title(titles[ii])\n",
    "\n",
    "[X,Y] = np.meshgrid(range(n), range(n))\n",
    "\n",
    "taum = 10*ms\n",
    "taui = 50*ms\n",
    "taue = 100*ms\n",
    "\n",
    "dge = 80*mV\n",
    "dge_c = 500*mV\n",
    "\n",
    "duration = 500*ms\n",
    "\n",
    "eqsPOISSON='''\n",
    "rates : Hz\n",
    "x : 1 (constant)\n",
    "y : 1 (constant)\n",
    "'''\n",
    "\n",
    "eqsLGN='''\n",
    "dv/dt  = (ge+gi-v)/taum : volt (unless refractory)\n",
    "dge/dt = -ge/taue : volt\n",
    "dgi/dt = -gi/taui : volt\n",
    "x : 1 (constant)\n",
    "y : 1 (constant)\n",
    "'''\n",
    "\n",
    "eqsV1='''\n",
    "dv/dt  = (ge+gi-v)/taum : volt (unless refractory)\n",
    "dge/dt = -ge/taue : volt\n",
    "dgi/dt = -gi/taui : volt\n",
    "x : 1 (constant)\n",
    "y : 1 (constant)\n",
    "ori : 1 (constant)\n",
    "'''\n",
    "\n",
    "################################################### Retina ################################################################\n",
    "\n",
    "nL1 = n**2\n",
    "\n",
    "L1 = NeuronGroup(nL1,\n",
    "                 eqsPOISSON,\n",
    "                 threshold='rand()<rates*dt')\n",
    "\n",
    "L1.x = X.flatten()\n",
    "L1.y = Y.flatten()\n",
    "FR = 200*Hz\n",
    "L1.rates = pat.flatten()*FR\n",
    "\n",
    "################################################### LGN 2A ################################################################\n",
    "\n",
    "nL2a = n**2\n",
    "\n",
    "L2a = NeuronGroup(nL2a,\n",
    "                 eqsLGN,\n",
    "                 threshold = 'v>0.3*volt',\n",
    "                 reset = 'v=0*volt',\n",
    "                 refractory = 5*ms,\n",
    "                 method = 'euler')\n",
    "\n",
    "L2a.x = X.flatten()\n",
    "L2a.y = Y.flatten()\n",
    "\n",
    "e1a = Synapses(L1, L2a, on_pre='ge += dge')\n",
    "e1a.connect(condition = 'i==j')\n",
    "\n",
    "i1a = Synapses(L1, L2a, on_pre='gi -= 1/8*dge')\n",
    "i1a.connect(condition = 'sqrt((x_pre-x_post)**2+(y_pre-y_post)**2)<2 and i!=j')\n",
    "\n",
    "################################################### LGN 2B ################################################################\n",
    "\n",
    "nb = int(n/2)\n",
    "nL2b = nb**2\n",
    "[Xb,Yb] = np.meshgrid(range(nb), range(nb))\n",
    "\n",
    "L2b = NeuronGroup(nL2b,\n",
    "                 eqsLGN,\n",
    "                 threshold = 'v>0.3*volt',\n",
    "                 reset = 'v=0*volt',\n",
    "                 refractory = 5*ms,\n",
    "                 method = 'euler')\n",
    "\n",
    "L2b.x = Xb.flatten()\n",
    "L2b.y = Yb.flatten()\n",
    "\n",
    "e1b = Synapses(L1, L2b, on_pre='ge += 1/4*dge')\n",
    "e1b.connect(condition = '(x_post==x_pre/2 or x_post==(x_pre-1)/2) and (y_post==y_pre/2 or y_post==(y_pre-1)/2)')\n",
    "\n",
    "################################################ V1 simple A ##############################################################\n",
    "\n",
    "nL3a = nL2a*8\n",
    "\n",
    "L3a = NeuronGroup(nL3a,\n",
    "                 eqsV1,\n",
    "                 threshold='v>0.3*volt',\n",
    "                 reset='v=0*volt',\n",
    "                 refractory=5*ms,\n",
    "                 method='euler')\n",
    "\n",
    "L3a.ori = np.repeat(range(8), nL2a)\n",
    "\n",
    "X3 = np.tile(X.flatten(), (1,8))\n",
    "X3.flatten()\n",
    "L3a.x = X3.flatten()\n",
    "\n",
    "Y3 = np.tile(Y.flatten(), (1,8))\n",
    "Y3.flatten()\n",
    "L3a.y = Y3.flatten()\n",
    "\n",
    "ce = 'abs(y_pre-y_post)<3 and abs(x_pre-x_post)<3 and ('\n",
    "ce += 'ori_post==0 and x_post==x_pre or '\n",
    "ce += 'ori_post==1 and abs(1.5*(x_post-x_pre)-(y_post-y_pre))<1 or '\n",
    "ce += 'ori_post==2 and abs(y_post-y_pre-x_post+x_pre)==0 or '\n",
    "ce += 'ori_post==3 and abs((x_post-x_pre)-1.5*(y_post-y_pre))<1 or '\n",
    "ce += 'ori_post==4 and y_post==y_pre or '\n",
    "ce += 'ori_post==5 and abs((x_post-x_pre)+1.5*(y_post-y_pre))<1 or '\n",
    "ce += 'ori_post==6 and abs(y_post-y_pre+x_post-x_pre)==0 or '\n",
    "ce += 'ori_post==7 and abs(1.5*(x_post-x_pre)+(y_post-y_pre))<1)'\n",
    "\n",
    "ci = 'abs(y_pre-y_post)<3 and abs(x_pre-x_post)<3 and ('\n",
    "ci += 'ori_post==0 and abs(x_post-x_pre)==1 or '\n",
    "ci += 'ori_post==1 and (abs(1.5*(x_post-x_pre-1)-(y_post-y_pre))<1 or abs(1.5*(x_post-x_pre+1)-(y_post-y_pre))<1) or '\n",
    "ci += 'ori_post==2 and abs(y_post-y_pre-x_post+x_pre)==1 or '\n",
    "ci += 'ori_post==3 and (abs((x_post-x_pre)-1.5*(y_post-y_pre-1))<1 or abs((x_post-x_pre)-1.5*(y_post-y_pre+1))<1) or '\n",
    "ci += 'ori_post==4 and abs(y_post-y_pre)==1 or '\n",
    "ci += 'ori_post==5 and (abs((x_post-x_pre)+1.5*(y_post-y_pre-1))<1 or abs((x_post-x_pre)+1.5*(y_post-y_pre+1))<1) or '\n",
    "ci += 'ori_post==6 and abs(y_post-y_pre+x_post-x_pre)==1 or '\n",
    "ci += 'ori_post==7 and (abs(1.5*(x_post-x_pre-1)+(y_post-y_pre))<1 or abs(1.5*(x_post-x_pre+1)+(y_post-y_pre))<1))'\n",
    "\n",
    "e2a = Synapses(L2a, L3a, on_pre='ge += 1/5*dge')\n",
    "e2a.connect(condition = ce)\n",
    "\n",
    "i2a = Synapses(L2a, L3a, on_pre='gi -= 1/9*dge')\n",
    "i2a.connect(condition = ci)\n",
    "\n",
    "################################################ V1 simple B ##############################################################\n",
    "\n",
    "nL3b = nL2b*8\n",
    "\n",
    "L3b = NeuronGroup(nL3b,\n",
    "                 eqsV1,\n",
    "                 threshold='v>0.3*volt',\n",
    "                 reset='v=0*volt',\n",
    "                 refractory=5*ms,\n",
    "                 method='euler')\n",
    "\n",
    "L3b.ori = np.repeat(range(8), nL2b)\n",
    "\n",
    "X3 = np.tile(Xb.flatten(), (1,8))\n",
    "X3.flatten()\n",
    "L3b.x = X3.flatten()\n",
    "\n",
    "Y3 = np.tile(Yb.flatten(), (1,8))\n",
    "Y3.flatten()\n",
    "L3b.y = Y3.flatten()\n",
    "\n",
    "ce = 'abs(y_pre-y_post)<3 and abs(x_pre-x_post)<3 and ('\n",
    "ce += 'ori_post==0 and x_post==x_pre or '\n",
    "ce += 'ori_post==1 and abs(1.5*(x_post-x_pre)-(y_post-y_pre))<1 or '\n",
    "ce += 'ori_post==2 and abs(y_post-y_pre-x_post+x_pre)==0 or '\n",
    "ce += 'ori_post==3 and abs((x_post-x_pre)-1.5*(y_post-y_pre))<1 or '\n",
    "ce += 'ori_post==4 and y_post==y_pre or '\n",
    "ce += 'ori_post==5 and abs((x_post-x_pre)+1.5*(y_post-y_pre))<1 or '\n",
    "ce += 'ori_post==6 and abs(y_post-y_pre+x_post-x_pre)==0 or '\n",
    "ce += 'ori_post==7 and abs(1.5*(x_post-x_pre)+(y_post-y_pre))<1)'\n",
    "\n",
    "ci = 'abs(y_pre-y_post)<3 and abs(x_pre-x_post)<3 and ('\n",
    "ci += 'ori_post==0 and abs(x_post-x_pre)==1 or '\n",
    "ci += 'ori_post==1 and (abs(1.5*(x_post-x_pre-1)-(y_post-y_pre))<1 or abs(1.5*(x_post-x_pre+1)-(y_post-y_pre))<1) or '\n",
    "ci += 'ori_post==2 and abs(y_post-y_pre-x_post+x_pre)==1 or '\n",
    "ci += 'ori_post==3 and (abs((x_post-x_pre)-1.5*(y_post-y_pre-1))<1 or abs((x_post-x_pre)-1.5*(y_post-y_pre+1))<1) or '\n",
    "ci += 'ori_post==4 and abs(y_post-y_pre)==1 or '\n",
    "ci += 'ori_post==5 and (abs((x_post-x_pre)+1.5*(y_post-y_pre-1))<1 or abs((x_post-x_pre)+1.5*(y_post-y_pre+1))<1) or '\n",
    "ci += 'ori_post==6 and abs(y_post-y_pre+x_post-x_pre)==1 or '\n",
    "ci += 'ori_post==7 and (abs(1.5*(x_post-x_pre-1)+(y_post-y_pre))<1 or abs(1.5*(x_post-x_pre+1)+(y_post-y_pre))<1))'\n",
    "\n",
    "e2b = Synapses(L2b, L3b, on_pre='ge += 1/5*dge')\n",
    "e2b.connect(condition = ce)\n",
    "\n",
    "i2b = Synapses(L2b, L3b, on_pre='gi -= 1/9*dge')\n",
    "i2b.connect(condition = ci)\n",
    "\n",
    "############################################## V1 A complex A #############################################################\n",
    "\n",
    "naa = 10\n",
    "nL4aa = naa**2*8\n",
    "[X4aa,Y4aa] = np.meshgrid(range(naa), range(naa))\n",
    "\n",
    "L4aa = NeuronGroup(nL4aa,\n",
    "                 eqsV1,\n",
    "                 threshold='v>0.3*volt',\n",
    "                 reset='v=0*volt',\n",
    "                 refractory=5*ms,\n",
    "                 method='euler')\n",
    "\n",
    "L4aa.ori = np.repeat(range(8), naa**2)\n",
    "\n",
    "X4 = np.tile(X4aa.flatten(), (1,8))\n",
    "X4.flatten()\n",
    "L4aa.x = X4.flatten()\n",
    "\n",
    "Y4 = np.tile(Y4aa.flatten(), (1,8))\n",
    "Y4.flatten()\n",
    "L4aa.y = Y4.flatten()\n",
    "\n",
    "e3aa = Synapses(L3a, L4aa, on_pre='ge += 1/9*dge_c')\n",
    "e3aa.connect(condition = 'ori_post==ori_pre and abs(3*x_post-x_pre)<=1 and abs(3*y_post-y_pre)<=1')\n",
    "\n",
    "############################################## V1 A complex B #############################################################\n",
    "\n",
    "nab = 6\n",
    "nL4ab = nab**2*8\n",
    "[X4ab,Y4ab] = np.meshgrid(range(nab), range(nab))\n",
    "\n",
    "L4ab = NeuronGroup(nL4ab,\n",
    "                 eqsV1,\n",
    "                 threshold='v>0.3*volt',\n",
    "                 reset='v=0*volt',\n",
    "                 refractory=5*ms,\n",
    "                 method='euler')\n",
    "\n",
    "L4ab.ori = np.repeat(range(8), nab**2)\n",
    "\n",
    "X4 = np.tile(X4ab.flatten(), (1,8))\n",
    "X4.flatten()\n",
    "L4ab.x = X4.flatten()\n",
    "\n",
    "Y4 = np.tile(Y4ab.flatten(), (1,8))\n",
    "Y4.flatten()\n",
    "L4ab.y = Y4.flatten()\n",
    "\n",
    "e3ab = Synapses(L3a, L4ab, on_pre='ge += 1/25*dge_c')\n",
    "e3ab.connect(condition = 'ori_post==ori_pre and abs(5*x_post-x_pre+1)<=2 and abs(5*y_post-y_pre+1)<=2')\n",
    "\n",
    "############################################## V1 B complex A #############################################################\n",
    "\n",
    "nba = 5\n",
    "nL4ba = nba**2*8\n",
    "[X4ba,Y4ba] = np.meshgrid(range(nba), range(nba))\n",
    "\n",
    "L4ba = NeuronGroup(nL4ba,\n",
    "                 eqsV1,\n",
    "                 threshold='v>0.3*volt',\n",
    "                 reset='v=0*volt',\n",
    "                 refractory=5*ms,\n",
    "                 method='euler')\n",
    "\n",
    "L4ba.ori = np.repeat(range(8), nba**2)\n",
    "\n",
    "X4 = np.tile(X4ba.flatten(), (1,8))\n",
    "X4.flatten()\n",
    "L4ba.x = X4.flatten()\n",
    "\n",
    "Y4 = np.tile(Y4ba.flatten(), (1,8))\n",
    "Y4.flatten()\n",
    "L4ba.y = Y4.flatten()\n",
    "\n",
    "e3ba = Synapses(L3b, L4ba, on_pre='ge += 1/9*dge_c')\n",
    "e3ba.connect(condition = 'ori_post==ori_pre and abs(3*x_post-x_pre)<=1 and abs(3*y_post-y_pre)<=1')\n",
    "\n",
    "###########################################################################################################################\n",
    "###########################################################################################################################\n",
    "###########################################################################################################################\n",
    "\n",
    "sp1 = SpikeMonitor(L1)\n",
    "sp2a = SpikeMonitor(L2a)\n",
    "sp2b = SpikeMonitor(L2b)\n",
    "sp3a = SpikeMonitor(L3a)\n",
    "sp3b = SpikeMonitor(L3b)\n",
    "sp4aa = SpikeMonitor(L4aa)\n",
    "sp4ab = SpikeMonitor(L4ab)\n",
    "sp4ba = SpikeMonitor(L4ba)\n",
    "\n",
    "run(duration)\n",
    "\n",
    "MFR1 = sp1.count/duration\n",
    "MFR2a = sp2a.count/duration\n",
    "MFR2b = sp2b.count/duration\n",
    "MFR3a = sp3a.count/duration\n",
    "MFR3b = sp3b.count/duration\n",
    "MFR4aa = sp4aa.count/duration\n",
    "MFR4ab = sp4ab.count/duration\n",
    "MFR4ba = sp4ba.count/duration"
   ]
  },
  {
   "cell_type": "markdown",
   "id": "768b2d7c",
   "metadata": {},
   "source": [
    "# $\\color{red}{\\text{SIMPLE CELLS}}$"
   ]
  },
  {
   "cell_type": "markdown",
   "id": "a4e1d83b",
   "metadata": {},
   "source": [
    "# Case A"
   ]
  },
  {
   "cell_type": "code",
   "execution_count": 8,
   "id": "d0f78aeb",
   "metadata": {
    "scrolled": true
   },
   "outputs": [
    {
     "data": {
      "image/png": "[encoded data removed]",
      "text/plain": [
       "<Figure size 640x480 with 8 Axes>"
      ]
     },
     "metadata": {},
     "output_type": "display_data"
    }
   ],
   "source": [
    "visualize_Hypercolumn_8ori(MFR3a, n, FR)"
   ]
  },
  {
   "cell_type": "markdown",
   "id": "de3b8ccd",
   "metadata": {},
   "source": [
    "# Case B"
   ]
  },
  {
   "cell_type": "code",
   "execution_count": 9,
   "id": "3757468e",
   "metadata": {
    "scrolled": true
   },
   "outputs": [
    {
     "data": {
      "image/png": "[encoded data removed]",
      "text/plain": [
       "<Figure size 640x480 with 8 Axes>"
      ]
     },
     "metadata": {},
     "output_type": "display_data"
    }
   ],
   "source": [
    "visualize_Hypercolumn_8ori(MFR3b, nb, FR)"
   ]
  },
  {
   "cell_type": "markdown",
   "id": "1b761d74",
   "metadata": {},
   "source": [
    "# $\\color{red}{\\text{COMPLEX CELLS}}$"
   ]
  },
  {
   "cell_type": "markdown",
   "id": "aa744291",
   "metadata": {},
   "source": [
    "# LGN A - V1 A"
   ]
  },
  {
   "cell_type": "code",
   "execution_count": 10,
   "id": "f8b5de15",
   "metadata": {},
   "outputs": [
    {
     "data": {
      "image/png": "[encoded data removed]",
      "text/plain": [
       "<Figure size 640x480 with 8 Axes>"
      ]
     },
     "metadata": {},
     "output_type": "display_data"
    }
   ],
   "source": [
    "visualize_Hypercolumn_8ori(MFR4aa, naa, FR)"
   ]
  },
  {
   "cell_type": "markdown",
   "id": "3e23a955",
   "metadata": {},
   "source": [
    "# LGN A - V1 B"
   ]
  },
  {
   "cell_type": "code",
   "execution_count": 11,
   "id": "b13506cd",
   "metadata": {},
   "outputs": [
    {
     "data": {
      "image/png": "[encoded data removed]",
      "text/plain": [
       "<Figure size 640x480 with 8 Axes>"
      ]
     },
     "metadata": {},
     "output_type": "display_data"
    }
   ],
   "source": [
    "visualize_Hypercolumn_8ori(MFR4ab, nab, FR)"
   ]
  },
  {
   "cell_type": "markdown",
   "id": "ea2bd019",
   "metadata": {},
   "source": [
    "# LGN B - V1 A"
   ]
  },
  {
   "cell_type": "code",
   "execution_count": 12,
   "id": "fbea3d8c",
   "metadata": {
    "scrolled": true
   },
   "outputs": [
    {
     "data": {
      "image/png": "[encoded data removed]",
      "text/plain": [
       "<Figure size 640x480 with 8 Axes>"
      ]
     },
     "metadata": {},
     "output_type": "display_data"
    }
   ],
   "source": [
    "visualize_Hypercolumn_8ori(MFR4ba, nba, FR)"
   ]
  },
  {
   "cell_type": "code",
   "execution_count": null,
   "id": "3ee6e7f8",
   "metadata": {},
   "outputs": [],
   "source": []
  }
 ],
 "metadata": {
  "kernelspec": {
   "display_name": "Python 3 (ipykernel)",
   "language": "python",
   "name": "python3"
  },
  "language_info": {
   "codemirror_mode": {
    "name": "ipython",
    "version": 3
   },
   "file_extension": ".py",
   "mimetype": "text/x-python",
   "name": "python",
   "nbconvert_exporter": "python",
   "pygments_lexer": "ipython3",
   "version": "3.10.11"
  }
 },
 "nbformat": 4,
 "nbformat_minor": 5
}
