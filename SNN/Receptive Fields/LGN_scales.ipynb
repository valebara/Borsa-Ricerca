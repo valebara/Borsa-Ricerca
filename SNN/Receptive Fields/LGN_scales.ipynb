{
 "cells": [
  {
   "cell_type": "code",
   "execution_count": 20,
   "id": "79291b00",
   "metadata": {
    "scrolled": true
   },
   "outputs": [],
   "source": [
    "from brian2 import *\n",
    "%matplotlib inline\n",
    "import numpy as np\n",
    "import pytime\n",
    "    \n",
    "n = 28\n",
    "nL1 = nL2 = n**2\n",
    "\n",
    "[X,Y] = np.meshgrid(range(n), range(n))\n",
    "\n",
    "taum = 10*ms\n",
    "taue = 100*ms\n",
    "taui = 100*ms\n",
    "duration = 500*ms\n",
    "\n",
    "dge = 200*mV\n",
    "\n",
    "eqsPOISSON='''\n",
    "rates : Hz\n",
    "x : 1 (constant)\n",
    "y : 1 (constant)\n",
    "'''\n",
    "\n",
    "eqsLGN='''\n",
    "dv/dt  = (ge-v)/taum : volt (unless refractory)\n",
    "dge/dt = -ge/taue : volt\n",
    "x : 1 (constant)\n",
    "y : 1 (constant)\n",
    "'''\n",
    "\n",
    "eqsV1='''\n",
    "dv/dt  = (ge-v)/taum : volt (unless refractory)\n",
    "dge/dt = -ge/taue : volt\n",
    "x : 1 (constant)\n",
    "y : 1 (constant)\n",
    "ori : 1 (constant)\n",
    "'''\n",
    "\n",
    "################################################## Layer 1 ################################################################\n",
    "\n",
    "L1 = NeuronGroup(nL1,\n",
    "                 eqsPOISSON,\n",
    "                 threshold='rand()<rates*dt')\n",
    "\n",
    "L1.x = X.flatten()\n",
    "L1.y = Y.flatten()\n",
    "FR = 100*Hz\n",
    "pat = np.zeros((28,28))\n",
    "pat[11:17,11:17] = 1\n",
    "L1.rates = pat.flatten()*FR\n",
    "\n",
    "################################################## Layer 2a ###############################################################\n",
    "\n",
    "L2a = NeuronGroup(nL2,\n",
    "                 eqsLGN,\n",
    "                 threshold = 'v>0.3*volt',\n",
    "                 reset = 'v=0*volt',\n",
    "                 refractory = 5*ms,\n",
    "                 method = 'euler')\n",
    "\n",
    "L2a.x = X.flatten()\n",
    "L2a.y = Y.flatten()\n",
    "\n",
    "e1a = Synapses(L1, L2a, on_pre='ge += dge')\n",
    "e1a.connect(condition = 'i==j')\n",
    "i1a = Synapses(L1, L2a, on_pre='ge -= 1/8*dge')\n",
    "i1a.connect(condition = 'sqrt((x_pre-x_post)**2+(y_pre-y_post)**2)<2 and i!=j')\n",
    "\n",
    "################################################## Layer 2b ###############################################################\n",
    "\n",
    "nb = int(n/2)\n",
    "nL2b = nb**2\n",
    "[Xb,Yb] = np.meshgrid(range(nb), range(nb))\n",
    "\n",
    "L2b = NeuronGroup(nL2b,\n",
    "                 eqsLGN,\n",
    "                 threshold = 'v>0.3*volt',\n",
    "                 reset = 'v=0*volt',\n",
    "                 refractory = 5*ms,\n",
    "                 method = 'euler')\n",
    "\n",
    "L2b.x = Xb.flatten()\n",
    "L2b.y = Yb.flatten()\n",
    "\n",
    "e1b = Synapses(L1, L2b, on_pre='ge += 1/4*dge')\n",
    "e1b.connect(condition = '(x_post==x_pre/2 or x_post==(x_pre-1)/2) and (y_post==y_pre/2 or y_post==(y_pre-1)/2)')\n",
    "\n",
    "################################################## Layer 3b ###############################################################\n",
    "\n",
    "L3b = NeuronGroup(nL2b,\n",
    "                 eqsLGN,\n",
    "                 threshold = 'v>0.3*volt',\n",
    "                 reset = 'v=0*volt',\n",
    "                 refractory = 5*ms,\n",
    "                 method = 'euler')\n",
    "\n",
    "L3b.x = Xb.flatten()\n",
    "L3b.y = Yb.flatten()\n",
    "\n",
    "e2b = Synapses(L2b, L3b, on_pre='ge += dge')\n",
    "e2b.connect(condition = 'i==j')\n",
    "i2b = Synapses(L2b, L3b, on_pre='ge -= 1/8*dge')\n",
    "i2b.connect(condition = 'sqrt((x_pre-x_post)**2+(y_pre-y_post)**2)<2 and i!=j')\n",
    "\n",
    "################################################## Layer 2c ###############################################################\n",
    "\n",
    "nc = int(n/4)\n",
    "nL2c = nc**2\n",
    "[Xc,Yc] = np.meshgrid(range(nc), range(nc))\n",
    "\n",
    "L2c = NeuronGroup(nL2c,\n",
    "                 eqsLGN,\n",
    "                 threshold = 'v>0.3*volt',\n",
    "                 reset = 'v=0*volt',\n",
    "                 refractory = 5*ms,\n",
    "                 method = 'euler')\n",
    "\n",
    "L2c.x = Xc.flatten()\n",
    "L2c.y = Yc.flatten()\n",
    "\n",
    "e1c = Synapses(L1, L2c, on_pre='ge += 1/16*dge')\n",
    "cx = '(x_post==x_pre/4 or x_post==(x_pre-1)/4 or x_post==(x_pre-2)/4 or x_post==(x_pre-3)/4) and '\n",
    "cy = '(y_post==y_pre/4 or y_post==(y_pre-1)/4 or y_post==(y_pre-2)/4 or y_post==(y_pre-3)/4)'\n",
    "cond = cx + cy\n",
    "e1c.connect(condition = cond)\n",
    "\n",
    "################################################## Layer 3c ###############################################################\n",
    "\n",
    "L3c = NeuronGroup(nL2c,\n",
    "                 eqsLGN,\n",
    "                 threshold = 'v>0.3*volt',\n",
    "                 reset = 'v=0*volt',\n",
    "                 refractory = 5*ms,\n",
    "                 method = 'euler')\n",
    "\n",
    "L3c.x = Xc.flatten()\n",
    "L3c.y = Yc.flatten()\n",
    "\n",
    "e2c = Synapses(L2c, L3c, on_pre='ge += dge')\n",
    "e2c.connect(condition = 'i==j')\n",
    "i2c = Synapses(L2c, L3c, on_pre='ge -= 1/8*dge')\n",
    "i2c.connect(condition = 'sqrt((x_pre-x_post)**2+(y_pre-y_post)**2)<2 and i!=j')\n",
    "\n",
    "################################################## Layer 2d ###############################################################\n",
    "\n",
    "nd = int(nb/2)\n",
    "nL2d = nd**2\n",
    "[Xd,Yd] = np.meshgrid(range(nd), range(nd))\n",
    "\n",
    "L2d = NeuronGroup(nL2d,\n",
    "                 eqsLGN,\n",
    "                 threshold = 'v>0.3*volt',\n",
    "                 reset = 'v=0*volt',\n",
    "                 refractory = 5*ms,\n",
    "                 method = 'euler')\n",
    "\n",
    "L2d.x = Xd.flatten()\n",
    "L2d.y = Yd.flatten()\n",
    "\n",
    "e1d = Synapses(L2b, L2d, on_pre='ge += 1/4*dge')\n",
    "e1d.connect(condition = '(x_post==x_pre/2 or x_post==(x_pre-1)/2) and (y_post==y_pre/2 or y_post==(y_pre-1)/2)')\n",
    "\n",
    "################################################## Layer 3d ###############################################################\n",
    "\n",
    "L3d = NeuronGroup(nL2d,\n",
    "                 eqsLGN,\n",
    "                 threshold = 'v>0.3*volt',\n",
    "                 reset = 'v=0*volt',\n",
    "                 refractory = 5*ms,\n",
    "                 method = 'euler')\n",
    "\n",
    "L3d.x = Xd.flatten()\n",
    "L3d.y = Yd.flatten()\n",
    "\n",
    "e2d = Synapses(L2d, L3d, on_pre='ge += dge')\n",
    "e2d.connect(condition = 'i==j')\n",
    "i2d = Synapses(L2d, L3d, on_pre='ge -= 1/8*dge')\n",
    "i2d.connect(condition = 'sqrt((x_pre-x_post)**2+(y_pre-y_post)**2)<2 and i!=j')\n",
    "\n",
    "sp1 = SpikeMonitor(L1)\n",
    "sp2a = SpikeMonitor(L2a)\n",
    "sp2b = SpikeMonitor(L2b)\n",
    "sp3b = SpikeMonitor(L3b)\n",
    "sp2c = SpikeMonitor(L2c)\n",
    "sp3c = SpikeMonitor(L3c)\n",
    "sp2d = SpikeMonitor(L2d)\n",
    "sp3d = SpikeMonitor(L3d)\n",
    "run(duration)"
   ]
  },
  {
   "cell_type": "markdown",
   "id": "0bc7c427",
   "metadata": {},
   "source": [
    "## Case A) Kernel 3x3 (no mean)"
   ]
  },
  {
   "cell_type": "code",
   "execution_count": 31,
   "id": "26d9b49d",
   "metadata": {},
   "outputs": [
    {
     "data": {
      "text/plain": [
       "<matplotlib.colorbar.Colorbar at 0x1fb672d2530>"
      ]
     },
     "execution_count": 31,
     "metadata": {},
     "output_type": "execute_result"
    },
    {
     "data": {
      "image/png": "[encoded data removed]",
      "text/plain": [
       "<Figure size 640x480 with 4 Axes>"
      ]
     },
     "metadata": {},
     "output_type": "display_data"
    }
   ],
   "source": [
    "subplot(121)\n",
    "tmp = sp1.count/duration\n",
    "tmp = asarray(tmp)\n",
    "tmp = tmp.reshape(28,28)\n",
    "imshow(tmp,cmap='gray')\n",
    "title('Stimulus 6x6')\n",
    "xticks([])\n",
    "yticks([])\n",
    "colorbar()\n",
    "\n",
    "subplot(122)\n",
    "tmp = sp2a.count/duration\n",
    "tmp = asarray(tmp)\n",
    "tmp = tmp.reshape(28,28)\n",
    "imshow(tmp,cmap='gray')\n",
    "title('LGN 3x3')\n",
    "xticks([])\n",
    "yticks([])\n",
    "colorbar()"
   ]
  },
  {
   "cell_type": "markdown",
   "id": "432527ca",
   "metadata": {},
   "source": [
    "## Case B) Kernel 6x6 (2x2 mean -> kernel lgn 3x3)"
   ]
  },
  {
   "cell_type": "code",
   "execution_count": 30,
   "id": "1039a7a1",
   "metadata": {},
   "outputs": [
    {
     "data": {
      "text/plain": [
       "<matplotlib.colorbar.Colorbar at 0x1fb65f73370>"
      ]
     },
     "execution_count": 30,
     "metadata": {},
     "output_type": "execute_result"
    },
    {
     "data": {
      "image/png": "[encoded data removed]",
      "text/plain": [
       "<Figure size 640x480 with 4 Axes>"
      ]
     },
     "metadata": {},
     "output_type": "display_data"
    }
   ],
   "source": [
    "subplot(121)\n",
    "tmp = sp2b.count/duration\n",
    "tmp = asarray(tmp)\n",
    "tmp = tmp.reshape(14,14)\n",
    "imshow(tmp,cmap='gray')\n",
    "title('2x2 mean')\n",
    "xticks([])\n",
    "yticks([])\n",
    "colorbar()\n",
    "\n",
    "subplot(122)\n",
    "tmp = sp3b.count/duration\n",
    "tmp = asarray(tmp)\n",
    "tmp = tmp.reshape(14,14)\n",
    "imshow(tmp,cmap='gray')\n",
    "title('LGN 6x6')\n",
    "xticks([])\n",
    "yticks([])\n",
    "colorbar()"
   ]
  },
  {
   "cell_type": "markdown",
   "id": "11e96efc",
   "metadata": {},
   "source": [
    "## Comparison kernel 12x12"
   ]
  },
  {
   "cell_type": "code",
   "execution_count": 32,
   "id": "78caa4d3",
   "metadata": {},
   "outputs": [
    {
     "data": {
      "text/plain": [
       "<matplotlib.colorbar.Colorbar at 0x1fb6772e620>"
      ]
     },
     "execution_count": 32,
     "metadata": {},
     "output_type": "execute_result"
    },
    {
     "data": {
      "image/png": "[encoded data removed]",
      "text/plain": [
       "<Figure size 640x480 with 8 Axes>"
      ]
     },
     "metadata": {},
     "output_type": "display_data"
    }
   ],
   "source": [
    "subplot(221)\n",
    "tmp = sp2c.count/duration\n",
    "tmp = asarray(tmp)\n",
    "tmp = tmp.reshape(7,7)\n",
    "imshow(tmp,cmap='gray')\n",
    "title('4x4 mean from A')\n",
    "xticks([])\n",
    "yticks([])\n",
    "colorbar()\n",
    "\n",
    "subplot(222)\n",
    "tmp = sp3c.count/duration\n",
    "tmp = asarray(tmp)\n",
    "tmp = tmp.reshape(7,7)\n",
    "imshow(tmp,cmap='gray')\n",
    "title('LGN (C)')\n",
    "xticks([])\n",
    "yticks([])\n",
    "colorbar()\n",
    "\n",
    "subplot(223)\n",
    "tmp = sp2d.count/duration\n",
    "tmp = asarray(tmp)\n",
    "tmp = tmp.reshape(7,7)\n",
    "imshow(tmp,cmap='gray')\n",
    "title('2x2 mean from B')\n",
    "xticks([])\n",
    "yticks([])\n",
    "colorbar()\n",
    "\n",
    "subplot(224)\n",
    "tmp = sp3d.count/duration\n",
    "tmp = asarray(tmp)\n",
    "tmp = tmp.reshape(7,7)\n",
    "imshow(tmp,cmap='gray')\n",
    "title('LGN (D)')\n",
    "xticks([])\n",
    "yticks([])\n",
    "colorbar()"
   ]
  },
  {
   "cell_type": "code",
   "execution_count": null,
   "id": "463bba11",
   "metadata": {},
   "outputs": [],
   "source": []
  }
 ],
 "metadata": {
  "kernelspec": {
   "display_name": "Python 3 (ipykernel)",
   "language": "python",
   "name": "python3"
  },
  "language_info": {
   "codemirror_mode": {
    "name": "ipython",
    "version": 3
   },
   "file_extension": ".py",
   "mimetype": "text/x-python",
   "name": "python",
   "nbconvert_exporter": "python",
   "pygments_lexer": "ipython3",
   "version": "3.10.11"
  }
 },
 "nbformat": 4,
 "nbformat_minor": 5
}
