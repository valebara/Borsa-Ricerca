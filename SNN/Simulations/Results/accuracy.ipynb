{
 "cells": [
  {
   "cell_type": "code",
   "execution_count": null,
   "id": "3c7e490a",
   "metadata": {},
   "outputs": [],
   "source": []
  },
  {
   "cell_type": "code",
   "execution_count": 1,
   "id": "fbdabf9f",
   "metadata": {},
   "outputs": [],
   "source": [
    "import matplotlib.pyplot as plt\n",
    "import numpy as np\n",
    "\n",
    "t_test = np.load('t_test.npy')"
   ]
  },
  {
   "cell_type": "markdown",
   "id": "c11ae80d",
   "metadata": {},
   "source": [
    "## Th: mean"
   ]
  },
  {
   "cell_type": "code",
   "execution_count": 2,
   "id": "155660aa",
   "metadata": {},
   "outputs": [
    {
     "name": "stdout",
     "output_type": "stream",
     "text": [
      "Accuracy: 78.52%\n"
     ]
    }
   ],
   "source": [
    "mfr1 = np.load('Data Complex 3x3\\MFR classification test\\mfr_th_mean_test1.npy')\n",
    "mfr2 = np.load('Data Complex 3x3\\MFR classification test\\mfr_th_mean_test2.npy')\n",
    "mfr3 = np.load('Data Complex 3x3\\MFR classification test\\mfr_th_mean_test3.npy')\n",
    "mfr4 = np.load('Data Complex 3x3\\MFR classification test\\mfr_th_mean_test4.npy')\n",
    "\n",
    "mfr = np.concatenate((mfr1,mfr2,mfr3,mfr4))\n",
    "\n",
    "guessed = np.argmax(mfr,axis=1)\n",
    "\n",
    "accuracy = sum(np.equal(t_test, guessed))*100/10000\n",
    "print(f'Accuracy: {accuracy}%')"
   ]
  },
  {
   "cell_type": "code",
   "execution_count": 3,
   "id": "32b6698b",
   "metadata": {},
   "outputs": [
    {
     "name": "stdout",
     "output_type": "stream",
     "text": [
      "Accuracy: 88.66%\n"
     ]
    }
   ],
   "source": [
    "mfr1 = np.load('Data Complex 3x3\\MFR classification test\\mfr_th_mean_v0_test1.npy')\n",
    "mfr2 = np.load('Data Complex 3x3\\MFR classification test\\mfr_th_mean_v0_test2.npy')\n",
    "mfr3 = np.load('Data Complex 3x3\\MFR classification test\\mfr_th_mean_v0_test3.npy')\n",
    "mfr4 = np.load('Data Complex 3x3\\MFR classification test\\mfr_th_mean_v0_test4.npy')\n",
    "\n",
    "mfr = np.concatenate((mfr1,mfr2,mfr3,mfr4))\n",
    "\n",
    "guessed = np.argmax(mfr,axis=1)\n",
    "\n",
    "accuracy = sum(np.equal(t_test, guessed))*100/10000\n",
    "print(f'Accuracy: {accuracy}%')"
   ]
  },
  {
   "cell_type": "markdown",
   "id": "291a25fa",
   "metadata": {},
   "source": [
    "## Th: 50% quantile"
   ]
  },
  {
   "cell_type": "code",
   "execution_count": 4,
   "id": "55081c54",
   "metadata": {},
   "outputs": [
    {
     "name": "stdout",
     "output_type": "stream",
     "text": [
      "Accuracy: 75.36%\n"
     ]
    }
   ],
   "source": [
    "mfr1 = np.load('Data Complex 3x3\\MFR classification test\\mfr_th_50_test1.npy')\n",
    "mfr2 = np.load('Data Complex 3x3\\MFR classification test\\mfr_th_50_test2.npy')\n",
    "mfr3 = np.load('Data Complex 3x3\\MFR classification test\\mfr_th_50_test3.npy')\n",
    "mfr4 = np.load('Data Complex 3x3\\MFR classification test\\mfr_th_50_test4.npy')\n",
    "\n",
    "mfr = np.concatenate((mfr1,mfr2,mfr3,mfr4))\n",
    "\n",
    "guessed = np.argmax(mfr,axis=1)\n",
    "\n",
    "accuracy = sum(np.equal(t_test, guessed))*100/10000\n",
    "print(f'Accuracy: {accuracy}%')"
   ]
  },
  {
   "cell_type": "markdown",
   "id": "ac7ea9ae",
   "metadata": {},
   "source": [
    "## Th: 75% quantile"
   ]
  },
  {
   "cell_type": "code",
   "execution_count": 5,
   "id": "d46b4179",
   "metadata": {},
   "outputs": [
    {
     "name": "stdout",
     "output_type": "stream",
     "text": [
      "Accuracy: 78.49%\n"
     ]
    }
   ],
   "source": [
    "mfr1 = np.load('Data Complex 3x3\\MFR classification test\\mfr_th_75_test1.npy')\n",
    "mfr2 = np.load('Data Complex 3x3\\MFR classification test\\mfr_th_75_test2.npy')\n",
    "mfr3 = np.load('Data Complex 3x3\\MFR classification test\\mfr_th_75_test3.npy')\n",
    "mfr4 = np.load('Data Complex 3x3\\MFR classification test\\mfr_th_75_test4.npy')\n",
    "\n",
    "mfr = np.concatenate((mfr1,mfr2,mfr3,mfr4))\n",
    "\n",
    "guessed = np.argmax(mfr,axis=1)\n",
    "\n",
    "accuracy = sum(np.equal(t_test, guessed))*100/10000\n",
    "print(f'Accuracy: {accuracy}%')"
   ]
  },
  {
   "cell_type": "markdown",
   "id": "17f33a86",
   "metadata": {},
   "source": [
    "## Th: 82.5% quantile"
   ]
  },
  {
   "cell_type": "code",
   "execution_count": 6,
   "id": "10f6def5",
   "metadata": {},
   "outputs": [
    {
     "name": "stdout",
     "output_type": "stream",
     "text": [
      "Accuracy: 80.56%\n"
     ]
    }
   ],
   "source": [
    "mfr1 = np.load('Data Complex 3x3\\MFR classification test\\mfr_th_82_test1.npy')\n",
    "mfr2 = np.load('Data Complex 3x3\\MFR classification test\\mfr_th_82_test2.npy')\n",
    "mfr3 = np.load('Data Complex 3x3\\MFR classification test\\mfr_th_82_test3.npy')\n",
    "mfr4 = np.load('Data Complex 3x3\\MFR classification test\\mfr_th_82_test4.npy')\n",
    "\n",
    "mfr = np.concatenate((mfr1,mfr2,mfr3,mfr4))\n",
    "\n",
    "guessed = np.argmax(mfr,axis=1)\n",
    "\n",
    "accuracy = sum(np.equal(t_test, guessed))*100/10000\n",
    "print(f'Accuracy: {accuracy}%')"
   ]
  },
  {
   "cell_type": "markdown",
   "id": "c0b3d483",
   "metadata": {},
   "source": [
    "## Th: 90% quantile"
   ]
  },
  {
   "cell_type": "code",
   "execution_count": 7,
   "id": "d6c2a437",
   "metadata": {},
   "outputs": [
    {
     "name": "stdout",
     "output_type": "stream",
     "text": [
      "Accuracy: 81.22%\n"
     ]
    }
   ],
   "source": [
    "mfr1 = np.load('Data Complex 3x3\\MFR classification test\\mfr_th_90_test1.npy')\n",
    "mfr2 = np.load('Data Complex 3x3\\MFR classification test\\mfr_th_90_test2.npy')\n",
    "mfr3 = np.load('Data Complex 3x3\\MFR classification test\\mfr_th_90_test3.npy')\n",
    "mfr4 = np.load('Data Complex 3x3\\MFR classification test\\mfr_th_90_test4.npy')\n",
    "\n",
    "mfr = np.concatenate((mfr1,mfr2,mfr3,mfr4))\n",
    "\n",
    "guessed = np.argmax(mfr,axis=1)\n",
    "\n",
    "accuracy = sum(np.equal(t_test, guessed))*100/10000\n",
    "print(f'Accuracy: {accuracy}%')"
   ]
  },
  {
   "cell_type": "markdown",
   "id": "d89bf364",
   "metadata": {},
   "source": [
    "# STDP"
   ]
  },
  {
   "cell_type": "markdown",
   "id": "ed427056",
   "metadata": {},
   "source": [
    "# LR = e-4"
   ]
  },
  {
   "cell_type": "code",
   "execution_count": 3,
   "id": "a9743844",
   "metadata": {},
   "outputs": [
    {
     "name": "stdout",
     "output_type": "stream",
     "text": [
      "Accuracy: 60.43%\n"
     ]
    }
   ],
   "source": [
    "mfr1 = np.load('Data Complex 3x3\\MFR classification test\\mfr_stdp_test1.npy')\n",
    "mfr2 = np.load('Data Complex 3x3\\MFR classification test\\mfr_stdp_test2.npy')\n",
    "mfr3 = np.load('Data Complex 3x3\\MFR classification test\\mfr_stdp_test3.npy')\n",
    "mfr4 = np.load('Data Complex 3x3\\MFR classification test\\mfr_stdp_test4.npy')\n",
    "\n",
    "mfr = np.concatenate((mfr1,mfr2,mfr3,mfr4))\n",
    "\n",
    "guessed = np.argmax(mfr,axis=1)\n",
    "\n",
    "accuracy = sum(np.equal(t_test, guessed))*100/10000\n",
    "print(f'Accuracy: {accuracy}%')"
   ]
  },
  {
   "cell_type": "markdown",
   "id": "953ac740",
   "metadata": {},
   "source": [
    "# LR = e-5"
   ]
  },
  {
   "cell_type": "code",
   "execution_count": 4,
   "id": "8fd73202",
   "metadata": {},
   "outputs": [
    {
     "name": "stdout",
     "output_type": "stream",
     "text": [
      "Accuracy: 70.13%\n"
     ]
    }
   ],
   "source": [
    "mfr1 = np.load('Data Complex 3x3\\MFR classification test\\mfr_stdp_e-5_test1.npy')\n",
    "mfr2 = np.load('Data Complex 3x3\\MFR classification test\\mfr_stdp_e-5_test2.npy')\n",
    "mfr3 = np.load('Data Complex 3x3\\MFR classification test\\mfr_stdp_e-5_test3.npy')\n",
    "mfr4 = np.load('Data Complex 3x3\\MFR classification test\\mfr_stdp_e-5_test4.npy')\n",
    "\n",
    "mfr = np.concatenate((mfr1,mfr2,mfr3,mfr4))\n",
    "\n",
    "guessed = np.argmax(mfr,axis=1)\n",
    "\n",
    "accuracy = sum(np.equal(t_test, guessed))*100/10000\n",
    "print(f'Accuracy: {accuracy}%')"
   ]
  },
  {
   "cell_type": "code",
   "execution_count": null,
   "id": "e7b505a9",
   "metadata": {},
   "outputs": [],
   "source": []
  }
 ],
 "metadata": {
  "kernelspec": {
   "display_name": "Python 3 (ipykernel)",
   "language": "python",
   "name": "python3"
  },
  "language_info": {
   "codemirror_mode": {
    "name": "ipython",
    "version": 3
   },
   "file_extension": ".py",
   "mimetype": "text/x-python",
   "name": "python",
   "nbconvert_exporter": "python",
   "pygments_lexer": "ipython3",
   "version": "3.10.11"
  }
 },
 "nbformat": 4,
 "nbformat_minor": 5
}
