{
 "cells": [
  {
   "cell_type": "code",
   "execution_count": 7,
   "id": "fbdabf9f",
   "metadata": {},
   "outputs": [],
   "source": [
    "import matplotlib.pyplot as plt\n",
    "import numpy as np\n",
    "\n",
    "t_train = np.load('t_train.npy')\n",
    "tmp = []\n",
    "\n",
    "for i in range(8):\n",
    "    filename = 'all_MFR'+str(i+1)+'.npy'\n",
    "    tmp.append(np.load(filename,allow_pickle=True))\n",
    "\n",
    "mfr = np.concatenate((tmp[0],tmp[1],tmp[2],tmp[3],tmp[4],tmp[5],tmp[6],tmp[7]))\n",
    "\n",
    "#t_train_sor = np.sort(t_train)\n",
    "#ind = np.argsort(t_train)\n",
    "#mfr_sort = mfr[ind]\n",
    "\n",
    "for i in range(10):\n",
    "    tmp = mfr[t_train==i]\n",
    "    filename = 'mfr'+str(i)+'.npy'\n",
    "    np.save(filename, tmp)"
   ]
  },
  {
   "cell_type": "code",
   "execution_count": null,
   "id": "a4b5ca6b",
   "metadata": {},
   "outputs": [],
   "source": []
  }
 ],
 "metadata": {
  "kernelspec": {
   "display_name": "Python 3 (ipykernel)",
   "language": "python",
   "name": "python3"
  },
  "language_info": {
   "codemirror_mode": {
    "name": "ipython",
    "version": 3
   },
   "file_extension": ".py",
   "mimetype": "text/x-python",
   "name": "python",
   "nbconvert_exporter": "python",
   "pygments_lexer": "ipython3",
   "version": "3.10.11"
  }
 },
 "nbformat": 4,
 "nbformat_minor": 5
}
